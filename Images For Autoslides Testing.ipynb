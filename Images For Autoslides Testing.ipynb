{
 "cells": [
  {
   "cell_type": "code",
   "execution_count": 26,
   "metadata": {},
   "outputs": [],
   "source": [
    "from transformers import ViTImageProcessor, ViTForImageClassification\n",
    "\n",
    "from unsplash.api import Api\n",
    "from unsplash.auth import Auth\n",
    "import openai\n",
    "\n",
    "import requests\n",
    "import os\n",
    "from PIL import Image\n",
    "\n",
    "checklist = []\n",
    "lstofid = []\n",
    "images = []\n"
   ]
  },
  {
   "cell_type": "code",
   "execution_count": 27,
   "metadata": {},
   "outputs": [],
   "source": [
    "def ai_check(mainidea, simmilarity):     \n",
    "    \"\"\"\n",
    "    Take the main idea and the simmilarity and return the answer from openai.\n",
    "    @param mainidea - the main idea of the presentation           \n",
    "    @param simmilarity - the simmilarity of the presentation           \n",
    "    @return The answer from openai.           \n",
    "    \"\"\"\n",
    "    \n",
    "    return (openai.Completion.create(\n",
    "                           model=\"text-davinci-003\",\n",
    "                           prompt=f\"i am creating a presentation to present about {mainidea}, i created some photos about stuff that should relate in any way to the subject. tell me if this subject: '{simmilarity}' has anything to do with my main idea about my presentation. for example: ai is associated with computers, computers are associated with laptops, laptops are associated with learning and etc. another example: cats are associated with pets, pets is associated with dogs, and etc. another example is: if i asked for israeli defense army and computers, if you get flag as a subject or army or war it will be a yes because it is associated with all of that. another example is: spoons is associated with food, dumplings is associated with korean food which is associated with korea.another example is that forest is associated with monkeys, which are associated with banans, which is associated with trees. another example: nike is associated with clothing, shoes, socks, etc, shoes are associated wit socks, and socks are associated with nike at the end. another example, you might not understand, but for example, inflation has several meanings, one of each is high gas prices or money on the ground, there are more examples that have the vibe of this stuff which is all related to inflation, this does not only about inflation, there are other subjects that are also related to that and also have several meanings, respect that. all of those are simmilar things that sort of relate to eachother in some way. i gave you inputs based on that idea. You get the idea; return yes/no. \",\n",
    "                           temperature=0.3,\n",
    "                           max_tokens=100,\n",
    "                           top_p=1.0,\n",
    "                           frequency_penalty=0.0,\n",
    "                           presence_penalty=0.0)[\"choices\"][0][\"text\"]).split(\"|\")\n"
   ]
  },
  {
   "cell_type": "code",
   "execution_count": 28,
   "metadata": {},
   "outputs": [],
   "source": [
    "def get_image_ai(mainidea, amount):\n",
    "    \"\"\"\n",
    "    Download an image from the openai API.\n",
    "    @param mainidea - the main idea of the presentation           \n",
    "    @param amount - the amount of images to download           \n",
    "    \"\"\"\n",
    "    for number in range(int(amount)):\n",
    "        response = openai.Image.create(\n",
    "          prompt=f\"a basic photo, make it look realistic, suitable for a presentation, related to the subject: {mainidea}\",\n",
    "          n=4,\n",
    "          size=\"1024x1024\"\n",
    "        )\n",
    "        image_url = response['data'][0]['url']\n",
    "        def download_image(url, headers):\n",
    "            response = requests.get(url, headers=headers)\n",
    "            if response.status_code == 200:\n",
    "                with open(f\"image_presentation_{number}.png\", \"wb\") as file:\n",
    "                    file.write(response.content)\n",
    "            else:\n",
    "                print(response.status_code)\n",
    "        download_image(image_url, headers = {\n",
    "                \"User-Agent\": \"Chrome/51.0.2704.103\",\n",
    "            }\n",
    "        )\n"
   ]
  },
  {
   "cell_type": "code",
   "execution_count": 29,
   "metadata": {},
   "outputs": [],
   "source": [
    "def image_download(url, number):\n",
    "    \"\"\"\n",
    "    Download an image from the url and save it to the file system.\n",
    "    @param url - the url of the image to download.\n",
    "    @param number - the number of the image to save.\n",
    "    \"\"\"\n",
    "    response = requests.get(url)\n",
    "    with open(f\"image_presentation_{number}.png\", \"wb\") as file:\n",
    "        file.write(response.content)\n"
   ]
  },
  {
   "cell_type": "code",
   "execution_count": 30,
   "metadata": {},
   "outputs": [],
   "source": [
    "def check_similar(url):\n",
    "    \"\"\"\n",
    "    Take the url of an image and check if it is similar to any of the images in the dictionary.\n",
    "    @param url - the url of the image to check against the dictionary\n",
    "    @returns the predicted class of the image\n",
    "    \"\"\"\n",
    "    image = Image.open(requests.get(url, stream=True).raw)\n",
    "    processor = ViTImageProcessor.from_pretrained('google/vit-base-patch16-224')\n",
    "    model = ViTForImageClassification.from_pretrained('google/vit-base-patch16-224')\n",
    "    inputs = processor(images=image, return_tensors=\"pt\")\n",
    "    outputs = model(**inputs)\n",
    "    logits = outputs.logits\n",
    "    predicted_class_idx = logits.argmax(-1).item()\n",
    "    checklist.append(model.config.id2label[predicted_class_idx])\n"
   ]
  },
  {
   "cell_type": "code",
   "execution_count": 31,
   "metadata": {},
   "outputs": [],
   "source": [
    "\n",
    "def get_image_unsplash(mainidea, amount, width = 0, height = 0):\n",
    "    \"\"\"\n",
    "    Given a main idea, amount of images, and optional width and height, download the images from Unsplash.com.\n",
    "    @param mainidea - the main idea for the image search.\n",
    "    @param amount - the amount of images to download.\n",
    "    @param width - the width of the image.\n",
    "    @param height - the height of the image.\n",
    "    \"\"\"\n",
    "    for photo in (api.search.photos(mainidea)['results'])[0:amount]:\n",
    "        image = api.photo.get((str(photo)).split(\"=\")[1].replace(\"'\", \"\").replace(\")\", \"\"), width = width, height = height)\n",
    "        lstofid.append((str(image)).split(\"=\")[1].replace(\"'\", \"\").replace(\")\", \"\"))\n",
    "    for number in range(int(amount)):\n",
    "        url = f\"\"\"https://unsplash.com/photos/{lstofid[number]}/download\"\"\"\n",
    "        check_similar(url) # f\"unsplash_{number}\")\n",
    "        image_download(url, number)\n",
    "        print()"
   ]
  },
  {
   "cell_type": "code",
   "execution_count": 32,
   "metadata": {},
   "outputs": [
    {
     "name": "stdout",
     "output_type": "stream",
     "text": [
      "\n",
      "\n",
      "\n",
      "\n",
      "\n",
      "0\n",
      "1\n",
      "2\n",
      "Succesfull\n"
     ]
    }
   ],
   "source": [
    "answers = {}\n",
    "    #Remove any old images from the directory.\n",
    "number = 0\n",
    "\n",
    "while number == number:\n",
    "    try:\n",
    "        os.remove(f\"image_presentation_{number}.png\")\n",
    "        number += 1\n",
    "    except:\n",
    "        break\n",
    "\n",
    "##################################\n",
    "mainidea = \"Cats\"\n",
    "num_of_images = 3\n",
    "#################################\n",
    "\n",
    "get_image_unsplash(mainidea.title(), num_of_images + 2)\n",
    "    #Get the images from unsplash.com and check them against the AI.\n",
    "    #@param mainidea - the main idea of the image\n",
    "    #@param num_of_images - the number of images to get\n",
    "    #@returns the images that are relevant to the AI\n",
    "for place in range(len(checklist)):\n",
    "    answers.update({place : ai_check(mainidea, checklist[place])})\n",
    "    \n",
    "for key, value in answers.items():\n",
    "    print(key)\n",
    "    if 'yes' in str(\" \".join(value).lower()):\n",
    "        images.append(key)\n",
    "        if len(images) >= num_of_images:\n",
    "            print(\"Succesfull\")\n",
    "            break\n",
    "if len(images) < num_of_images:\n",
    "    print(\"AI\")\n",
    "    get_image_ai(mainidea.title(), num_of_images)\n",
    "        \n"
   ]
  },
  {
   "cell_type": "code",
   "execution_count": 33,
   "metadata": {},
   "outputs": [
    {
     "data": {
      "text/plain": [
       "['Persian cat',\n",
       " 'Persian cat',\n",
       " 'Persian cat',\n",
       " 'tabby, tabby cat',\n",
       " 'Egyptian cat']"
      ]
     },
     "execution_count": 33,
     "metadata": {},
     "output_type": "execute_result"
    }
   ],
   "source": [
    "checklist"
   ]
  }
 ],
 "metadata": {
  "kernelspec": {
   "display_name": "Python 3",
   "language": "python",
   "name": "python3"
  },
  "language_info": {
   "codemirror_mode": {
    "name": "ipython",
    "version": 3
   },
   "file_extension": ".py",
   "mimetype": "text/x-python",
   "name": "python",
   "nbconvert_exporter": "python",
   "pygments_lexer": "ipython3",
   "version": "3.10.10"
  },
  "orig_nbformat": 4,
  "vscode": {
   "interpreter": {
    "hash": "df8840579b666c926a1bdc519db1efac6a771bb8364ba507e9817c137eaa4a92"
   }
  }
 },
 "nbformat": 4,
 "nbformat_minor": 2
}
