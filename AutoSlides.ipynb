{
 "cells": [
  {
   "cell_type": "code",
   "execution_count": 33,
   "metadata": {},
   "outputs": [],
   "source": [
    "import openai\n",
    "from pptx import Presentation\n",
    "from pptx.util import Inches, Pt\n",
    "from pptx.enum.text import MSO_AUTO_SIZE\n",
    "from tqdm import tqdm\n",
    "import os\n",
    "import requests"
   ]
  },
  {
   "cell_type": "code",
   "execution_count": 34,
   "metadata": {},
   "outputs": [],
   "source": [
    "filter = \"ABCDEFGHIJKLMNOPQRSTUVWXYZ abcdefghijklmnopqrstuvwxyz!?,\"\n",
    "count = 0\n",
    "structure = {}\n",
    "lst = []"
   ]
  },
  {
   "cell_type": "code",
   "execution_count": 35,
   "metadata": {},
   "outputs": [
    {
     "name": "stdout",
     "output_type": "stream",
     "text": [
      "Ok, Proceeding..\n"
     ]
    }
   ],
   "source": [
    "    \n",
    "mainidea = str(input(\"Whats The Main Theme Of The Presentation?: \")) #e\n",
    "numofsub = int(input(\"How many slides do you want ( Not including Opening and Ending )?: \"))\n",
    "length = str(input(\"Length Of The Text In The The Presentation (Medium to Short Recommended.): \"))\n",
    "undertitle = str(input(\"What will be written under the title?: (EX: By: Josh, Alex)?: \"))\n",
    "\n",
    "\n",
    "decision = str(input(\"From what do you want to create the presentation. \\n (Informative Text [Text], A Single Subject [Subject], Define Each Slide [Define])?:  \"))\n",
    "\n",
    "if \"define\" in decision.lower().replace(\" \", \"\"):\n",
    "    titles = []\n",
    "    for x in range(numofsub):\n",
    "        titles.append(input(f\"What do you want the title to be for informative slide {x + 1}: \"))\n",
    "    decision = \"define\"\n",
    "    \n",
    "elif \"subject\" in decision.lower().replace(\" \", \"\"):\n",
    "    print(\"Ok, Proceeding..\")\n",
    "    decision = \"subject\"\n",
    "elif \"text\" in decision.lower().replace(\" \", \"\"):\n",
    "    print(\"Ok, Proceeding..\")\n",
    "    decision = \"text\"\n"
   ]
  },
  {
   "cell_type": "code",
   "execution_count": 36,
   "metadata": {},
   "outputs": [],
   "source": [
    "def cleanup(text):\n",
    "    clean = \"\"\n",
    "    for x in range(len(text)):\n",
    "        if text[x] in filter:\n",
    "            clean += text[x]\n",
    "    return clean\n"
   ]
  },
  {
   "cell_type": "code",
   "execution_count": 37,
   "metadata": {},
   "outputs": [],
   "source": [
    "def user_to_raw(user_title_list, length, mainidea, undertitle):\n",
    "    raw = []\n",
    "    raw.append({\"title\": mainidea, \"content\": undertitle})\n",
    "\n",
    "    for x in tqdm(user_title_list):\n",
    "        \n",
    "        gpt = openai.Completion.create(\n",
    "                           model=\"text-davinci-003\",\n",
    "                           prompt=f\"create a {length} text length under 1300 charachters and under 17 lines (including the spaces as charachters) about {x} regarding to the subject {mainidea}: \",\n",
    "                           temperature=0.3,\n",
    "                           max_tokens=500,\n",
    "                           top_p=1.0,\n",
    "                           frequency_penalty=0.0,\n",
    "                           presence_penalty=0.0)[\"choices\"][0][\"text\"]\n",
    "\n",
    "        raw.append({\"title\": x.title(), \"content\": gpt})\n",
    "    \n",
    "    conc = openai.Completion.create(\n",
    "                   model=\"text-davinci-003\",\n",
    "                   prompt=f\"create a conclusion under 1300 charachters and under 17 lines (including the spaces as charachters) about {mainidea}: \",\n",
    "                   temperature=0.3,\n",
    "                   max_tokens=500,\n",
    "                   top_p=1.0,\n",
    "                   frequency_penalty=0.0,\n",
    "                   presence_penalty=0.0)[\"choices\"][0][\"text\"]\n",
    "\n",
    "    raw.append({\"title\": \"Conclusion\", \"content\": conc})\n",
    "\n",
    "    return raw    "
   ]
  },
  {
   "cell_type": "code",
   "execution_count": 38,
   "metadata": {},
   "outputs": [],
   "source": [
    "def getsubjects(subject, parts):\n",
    "    return (openai.Completion.create(\n",
    "                           model=\"text-davinci-003\",\n",
    "                           prompt=f\"generate {parts} diffrent titles which are questions for a presentation about {subject} to answer without numbers and splitted by ,\",\n",
    "                           temperature=0.3,\n",
    "                           max_tokens=500,\n",
    "                           top_p=1.0,\n",
    "                           frequency_penalty=0.0,\n",
    "                           presence_penalty=0.0)[\"choices\"][0][\"text\"]).split(\",\")\n"
   ]
  },
  {
   "cell_type": "code",
   "execution_count": 39,
   "metadata": {},
   "outputs": [],
   "source": [
    "def get_slide(topic, length=None, type=None, optional=\"\"):\n",
    "    if type == \"start\":\n",
    "        return {\"title\": cleanup(topic).title(),\n",
    "                \"content\": optional}\n",
    "    elif type == \"middle\":\n",
    "        return {\"title\": cleanup(topic).title(),\n",
    "                \"content\": openai.Completion.create(\n",
    "                           model=\"text-davinci-003\",\n",
    "                           prompt=f\"create a {length} text length under 1300 charachters and under 17 lines (including the spaces as charachters) about {topic}: \",\n",
    "                           temperature=0.3,\n",
    "                           max_tokens=640,\n",
    "                           top_p=1.0,\n",
    "                           frequency_penalty=0.0,\n",
    "                           presence_penalty=0.0)[\"choices\"][0][\"text\"]}\n",
    "    elif type == \"end\":\n",
    "        return {\"title\": \"Conclusion\",\n",
    "                \"content\": openai.Completion.create(\n",
    "                           model=\"text-davinci-003\",\n",
    "                           prompt=f\"create a conclusion for a presentation about the subject of {topic}: \",\n",
    "                           temperature=0.3,\n",
    "                           max_tokens=640,\n",
    "                           top_p=1.0,\n",
    "                           frequency_penalty=0.0,\n",
    "                           presence_penalty=0.0)[\"choices\"][0][\"text\"]}\n",
    "    else:\n",
    "        return {\"title\": cleanup(topic).title(),\n",
    "                \"content\": openai.Completion.create(\n",
    "                           model=\"text-davinci-003\",\n",
    "                           prompt=f\"create a {length} {type} length about {topic} under 1300 charachters and under 17 lines (including the spaces as charachters): \",\n",
    "                           temperature=0.3,\n",
    "                           max_tokens=640,\n",
    "                           top_p=1.0,\n",
    "                           frequency_penalty=0.0,\n",
    "                           presence_penalty=0.0)[\"choices\"][0][\"text\"]}\n"
   ]
  },
  {
   "cell_type": "code",
   "execution_count": 40,
   "metadata": {},
   "outputs": [],
   "source": [
    "def presentation_text(structure, title, undertitle):\n",
    "    completed = [get_slide(title, optional= undertitle, type=\"start\")]\n",
    "    \n",
    "    for x in structure:\n",
    "        completed.append(get_slide(x, length=structure[x], type=\"middle\"))\n",
    "    \n",
    "    completed.append(get_slide(title, type=\"end\"))\n",
    "    \n",
    "    return completed"
   ]
  },
  {
   "cell_type": "code",
   "execution_count": 41,
   "metadata": {},
   "outputs": [],
   "source": [
    "def FirstRun(mainidea, numofsub, length, undertitle, decision, text = \"\"):\n",
    "    if \"text\" in decision.lower().replace(\" \", \"\"):      \n",
    "        lst = (openai.Completion.create(\n",
    "                           model=\"text-davinci-003\",\n",
    "                           prompt=f\"summarize a text to {numofsub} diffrent titles/questions that would fit a presentation regarding to this text {text}. the titles will be splitted by a ,\",\n",
    "                           temperature=0.3,\n",
    "                           max_tokens=500,\n",
    "                           top_p=1.0,\n",
    "                           frequency_penalty=0.0,\n",
    "                           presence_penalty=0.0)[\"choices\"][0][\"text\"]).split(\",\")\n",
    "\n",
    "        for x in range(numofsub):\n",
    "            structure.update({lst[x]:length})\n",
    "        raw = presentation_text(structure, mainidea, undertitle)\n",
    "        return raw\n",
    " \n",
    "\n",
    "    elif \"subject\" in decision.lower().replace(\" \", \"\"):\n",
    "        lst = getsubjects(mainidea, numofsub)\n",
    "        for x in range(numofsub):\n",
    "            structure.update({lst[x]:length})\n",
    "        raw = presentation_text(structure, mainidea, undertitle)\n",
    "        return raw\n",
    "\n",
    "    else:\n",
    "        print(\"Error, Try again\")\n",
    "        FirstRun(mainidea, numofsub, length, undertitle, decision)\n",
    "\n"
   ]
  },
  {
   "cell_type": "code",
   "execution_count": 42,
   "metadata": {},
   "outputs": [],
   "source": [
    "def photomaker(mainidea):\n",
    "    response = openai.Image.create(\n",
    "      prompt=f\"a basic photo, make it look realistic, suitable for a presentation, related to the subject: {mainidea}\",\n",
    "      n=4,\n",
    "      size=\"1024x1024\"\n",
    "    )\n",
    "    image_url = response['data'][0]['url']\n",
    "\n",
    "\n",
    "\n",
    "    def download_image(url, file_name, headers):\n",
    "\n",
    "        # Send GET request\n",
    "        response = requests.get(url, headers=headers)\n",
    "\n",
    "        # Save the image\n",
    "        if response.status_code == 200:\n",
    "            with open(file_name, \"wb\") as f:\n",
    "                f.write(response.content)\n",
    "        else:\n",
    "            print(response.status_code)\n",
    "\n",
    "    download_image(image_url, f\"Picture for presentation.png\",     headers = {\n",
    "            \"User-Agent\": \"Chrome/51.0.2704.103\",\n",
    "        }\n",
    "    )\n"
   ]
  },
  {
   "cell_type": "code",
   "execution_count": 43,
   "metadata": {},
   "outputs": [],
   "source": [
    "def presentation_maker(raw, numofsub):\n",
    "    global counter\n",
    "    global count\n",
    "    typelist = [\"start\", \"ending\"]\n",
    "    for x in range(numofsub):\n",
    "        typelist.insert(1, \"middle\")\n",
    "    def prsmaker(type, text=\"\", maintitle=\"\"):\n",
    "        global counter\n",
    "        prs.slide_width = Inches(16)\n",
    "        prs.slide_height = Inches(9)\n",
    "        if type == \"start\":\n",
    "            lyt = prs.slide_layouts[2]  # choosing a slide layout\n",
    "            slide = prs.slides.add_slide(lyt)  # adding a slide\n",
    "            title = slide.shapes.title  # assigning a title\n",
    "            left = Inches(7)\n",
    "            top = Inches(1)\n",
    "            pic = slide.shapes.add_picture(\"Picture for presentation.png\", left, top)\n",
    "            height = Inches(7)\n",
    "            width = Inches(7)\n",
    "            pic.height = height\n",
    "            pic.width = width\n",
    "            subtitle = slide.placeholders[1]  # placeholder for subtitle\n",
    "            title.text = maintitle  # title\n",
    "            left = Inches(7)\n",
    "            top = Inches(1)\n",
    "            height = Inches(7)\n",
    "            width = Inches(7)\n",
    "            if text != \"\":\n",
    "                subtitle.text = text  # subtitle\n",
    "                subtitle.text_frame.auto_size = MSO_AUTO_SIZE.TEXT_TO_FIT_SHAPE\n",
    "                subtitle.text_frame.word_wrap = False\n",
    "\n",
    "        elif type == \"middle\":\n",
    "            lyt = prs.slide_layouts[1]  # choosing a slide layout\n",
    "            slide = prs.slides.add_slide(lyt)  # adding a slide\n",
    "            title = slide.shapes.title  # assigning a title\n",
    "            title.text = maintitle\n",
    "            textBox = slide.placeholders[1]  # placeholder for subtitle\n",
    "            textFrame = textBox.text_frame\n",
    "            textFrame.word_wrap = True\n",
    "            textParagraph = textFrame.add_paragraph()\n",
    "            textParagraph.text = text\n",
    "            textParagraph.autosize = MSO_AUTO_SIZE.TEXT_TO_FIT_SHAPE\n",
    "            textFrame.fit_text(font_family='Calibri', max_size=28, bold=False, italic=False, font_file=None)\n",
    "\n",
    "            textBox.text_frame.word_wrap = True\n",
    "            textBox.width = Inches(15)\n",
    "            textBox.height = Inches(9)  # text box height = 80% of slide height\n",
    "            title.width = Inches(14)\n",
    "            title.height = Inches(1)  # text box height = 80% of slide height\n",
    "\n",
    "        elif type == \"ending\":\n",
    "            lyt = prs.slide_layouts[1]  # choosing a slide layout\n",
    "            slide = prs.slides.add_slide(lyt)  # adding a slide\n",
    "            title = slide.shapes.title  # assigning a title\n",
    "            title.text = \"Conclusion\"\n",
    "            subtitle = slide.placeholders[1]  # placeholder for subtitle\n",
    "            subtitle.text = text\n",
    "            subtitle.text_frame.auto_size = MSO_AUTO_SIZE.TEXT_TO_FIT_SHAPE\n",
    "            subtitle.text_frame.word_wrap = False\n",
    "            subtitle.width = Inches(15)\n",
    "            subtitle.height = Inches(9)  # text box height = 80% of slide height\n",
    "            title.width = Inches(14)\n",
    "            title.height = Inches(1)  # text box height = 80% of slide height\n",
    "\n",
    "        if counter + 1 == len(typelist):\n",
    "            prs.save(mainidea + \" (Auto Slides) .pptx\")  # saving file\n",
    "\n",
    "\n",
    "    prs = Presentation()\n",
    "\n",
    "\n",
    "    for x in tqdm(raw):\n",
    "        prsmaker(typelist[count], text=x[\"content\"], maintitle=x[\"title\"])\n",
    "        counter += 1\n",
    "        count += 1"
   ]
  },
  {
   "cell_type": "code",
   "execution_count": 44,
   "metadata": {},
   "outputs": [
    {
     "name": "stderr",
     "output_type": "stream",
     "text": [
      "100%|██████████| 4/4 [00:02<00:00,  1.39it/s]\n"
     ]
    }
   ],
   "source": [
    "if decision == \"define\":\n",
    "    photomaker(mainidea)\n",
    "    counter = 0\n",
    "    raw = user_to_raw(titles, length, mainidea, undertitle)\n",
    "    presentation_maker(raw, numofsub)\n",
    "elif decision == \"subject\":\n",
    "    photomaker(mainidea)\n",
    "    counter = 0\n",
    "    raw = FirstRun(mainidea, numofsub, length, undertitle, decision)\n",
    "    presentation_maker(raw, numofsub)\n",
    "elif decision == \"text\":\n",
    "    text = str(input(\"Paste the text down below:\\n \"))\n",
    "    photomaker(mainidea)\n",
    "    counter = 0\n",
    "    raw = FirstRun(mainidea, numofsub, length, undertitle, decision, text)\n",
    "    presentation_maker(raw, numofsub)\n",
    "\n",
    "os.remove(\"Picture for presentation.png\")\n"
   ]
  },
  {
   "cell_type": "code",
   "execution_count": 45,
   "metadata": {},
   "outputs": [
    {
     "data": {
      "text/plain": [
       "[{'title': 'Cats', 'content': 'by: aviv'},\n",
       " {'title': 'Exploring The Fascinating World Of Cats',\n",
       "  'content': '\\n\\nCats are one of the most beloved animals on the planet. They bring us joy, companionship, and unconditional love. Exploring the fascinating world of cats can be an exciting and rewarding experience. From their unique personalities to their playful antics, cats have something to offer everyone. \\n\\nCats come in all shapes and sizes, from the majestic Maine Coon to the tiny teacup Persian. Each breed has its own distinct characteristics, from their fur color and texture to their temperament. With so many breeds to choose from, there is sure to be the perfect cat for everyone. \\n\\nCats are also known for their intelligence and problem-solving skills. They can be taught tricks, play games, and even use the litter box. Cats also have a keen sense of hearing and smell, making them great hunters. \\n\\nCats are also great companions. They can provide comfort and companionship in times of stress and loneliness. They also make great family pets, as they are loyal and affectionate. \\n\\nExploring the fascinating world of cats can be a fun and rewarding experience. With so many breeds, personalities, and skills, cats can bring joy and happiness to any home.'},\n",
       " {'title': ' What Makes Cats So Special?',\n",
       "  'content': '\\n\\nCats have been beloved by humans for centuries, and with good reason. They are intelligent, independent, and affectionate animals that make wonderful companions. But what makes cats so special? \\n\\nOne of the most endearing qualities of cats is their independence. Cats are not needy like some other pets, and they can be content to spend time alone. This makes them ideal for people who have busy lives, or who travel often. \\n\\nCats are also incredibly smart. They can learn tricks, and can even be trained to use the litter box. They are also very good at problem-solving, and can figure out how to open doors and cupboards with ease. \\n\\nCats also have a unique bond with their owners. They are loyal and affectionate, and can form strong attachments to their humans. They show their love in different ways, from purring and kneading to head-butting and cuddling. \\n\\nCats also have a unique and fascinating personality. They can be playful and mischievous, but also calm and gentle. They can be very vocal, and some cats even learn to meow in response to their owners. \\n\\nCats are also incredibly clean animals. They groom themselves often, and they are very particular about their litter box. This makes them a great pet for people who don’t have a lot of time to clean up after their pet. \\n\\nAll of these qualities make cats a wonderful pet for many people. They are independent, smart, affectionate, and clean. Cats are truly special animals, and it’s no wonder why they have been beloved by humans for centuries.'},\n",
       " {'title': 'Conclusion',\n",
       "  'content': \"\\n\\nIn conclusion, cats are truly amazing creatures. They are intelligent, loyal, and affectionate companions that bring joy to our lives. Cats are also great hunters, and their independent nature makes them perfect for those who don't have a lot of time to devote to a pet. Whether you are looking for a cuddly lap cat or an adventurous hunter, cats are sure to bring a lifetime of joy and companionship.\"}]"
      ]
     },
     "execution_count": 45,
     "metadata": {},
     "output_type": "execute_result"
    }
   ],
   "source": [
    "raw"
   ]
  }
 ],
 "metadata": {
  "kernelspec": {
   "display_name": "Python 3",
   "language": "python",
   "name": "python3"
  },
  "language_info": {
   "codemirror_mode": {
    "name": "ipython",
    "version": 3
   },
   "file_extension": ".py",
   "mimetype": "text/x-python",
   "name": "python",
   "nbconvert_exporter": "python",
   "pygments_lexer": "ipython3",
   "version": "3.10.11"
  },
  "orig_nbformat": 4,
  "vscode": {
   "interpreter": {
    "hash": "df8840579b666c926a1bdc519db1efac6a771bb8364ba507e9817c137eaa4a92"
   }
  }
 },
 "nbformat": 4,
 "nbformat_minor": 2
}
